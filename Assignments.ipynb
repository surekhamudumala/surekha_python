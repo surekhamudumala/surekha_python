{
 "cells": [
  {
   "cell_type": "code",
   "execution_count": 1,
   "metadata": {
    "collapsed": false
   },
   "outputs": [
    {
     "name": "stdout",
     "output_type": "stream",
     "text": [
      "Enter a string:surekha\n",
      "Enter a substring:ur\n",
      "'ur' substring is there in actual string 'surekha'\n"
     ]
    }
   ],
   "source": [
    "#2. write a program to chek given substring is there in actual string or not? (search should be case insensitive)\n",
    "string=raw_input(\"Enter a string:\")\n",
    "substring=raw_input(\"Enter a substring:\")\n",
    "if substring.lower() in string.lower():\n",
    "    print \"'%s' substring is there in actual string '%s'\"%(substring,string)\n",
    "else:\n",
    "    print  \"'%s' substring is  not there in actual string '%s'\"%(substring,string)\n"
   ]
  },
  {
   "cell_type": "code",
   "execution_count": 2,
   "metadata": {
    "collapsed": false
   },
   "outputs": [
    {
     "name": "stdout",
     "output_type": "stream",
     "text": [
      "Enter a number:72\n",
      "72 is a even number\n"
     ]
    }
   ],
   "source": [
    "#3. take a number from the user and check whether even or odd\n",
    "num=int(raw_input(\"Enter a number:\"))\n",
    "if (num%2)==0:\n",
    "    print \"%d is a even number\"%num\n",
    "else:\n",
    "    print \"%d is a odd number\"%num\n",
    "    "
   ]
  },
  {
   "cell_type": "code",
   "execution_count": 3,
   "metadata": {
    "collapsed": false
   },
   "outputs": [
    {
     "name": "stdout",
     "output_type": "stream",
     "text": [
      "Enter a number:23\n",
      "23  is a prime number\n"
     ]
    }
   ],
   "source": [
    "#4. take a number from the user and check whether it is prime?\n",
    "num=int(raw_input(\"Enter a number:\"))\n",
    "if num>2:\n",
    "    for i in range(2,num):\n",
    "        if num%i==0:\n",
    "            print num,\" is  not a prime number\"\n",
    "            break\n",
    "    else:\n",
    "        print num,\" is a prime number\"\n",
    "else:\n",
    "        print num,\" is  not a prime number\"\n",
    "        "
   ]
  },
  {
   "cell_type": "code",
   "execution_count": 4,
   "metadata": {
    "collapsed": false
   },
   "outputs": [
    {
     "name": "stdout",
     "output_type": "stream",
     "text": [
      "Enter a string:surekha123\n",
      "surekha123 does not contains only digits\n"
     ]
    }
   ],
   "source": [
    "#5. take a string from the user and check contains only digits or not?\n",
    "string=raw_input(\"Enter a string:\")\n",
    "if string.isdigit()==True:\n",
    "    print \" %s contains only digits\"%string\n",
    "else:\n",
    "    print \"%s does not contains only digits\"%string"
   ]
  },
  {
   "cell_type": "code",
   "execution_count": 5,
   "metadata": {
    "collapsed": false
   },
   "outputs": [
    {
     "name": "stdout",
     "output_type": "stream",
     "text": [
      "Enter a string:surekha\n",
      " surekha contains only alphabets\n"
     ]
    }
   ],
   "source": [
    "#6. take a string from the user and check contains only  alphabets or not?\n",
    "string=raw_input(\"Enter a string:\")\n",
    "if string.isalpha()==True:\n",
    "    print \" %s contains only alphabets\"%string\n",
    "else:\n",
    "    print \"%s does not contains all alphabets\"%string"
   ]
  },
  {
   "cell_type": "code",
   "execution_count": 6,
   "metadata": {
    "collapsed": false
   },
   "outputs": [
    {
     "name": "stdout",
     "output_type": "stream",
     "text": [
      "Enter a string:surekha@\n",
      "string does not contains all special characters\n"
     ]
    }
   ],
   "source": [
    "#7. take a string from the user and check contains only  special chars or not?\n",
    "string=raw_input(\"Enter a string:\")\n",
    "char = \"~`!@#$%^&*()_-+={}[]:>;',</?*-+\"\n",
    "for i in string:\n",
    "    if i in char:\n",
    "        print \" string contains all special characters\"\n",
    "        break\n",
    "    else:\n",
    "        print \"string does not contains all special characters\"\n",
    "        break"
   ]
  },
  {
   "cell_type": "code",
   "execution_count": 7,
   "metadata": {
    "collapsed": false
   },
   "outputs": [
    {
     "name": "stdout",
     "output_type": "stream",
     "text": [
      "Enter a string:SUREKHA\n",
      "string contains only capital letters\n"
     ]
    }
   ],
   "source": [
    "#8. take a string from the user and check contains only  capiatl letters or not?\n",
    "string=raw_input(\"Enter a string:\")\n",
    "a=string.upper()\n",
    "if string==a:\n",
    "    print \"string contains only capital letters\"\n",
    "else:\n",
    "    print \"string does not contains only capital letters\""
   ]
  },
  {
   "cell_type": "code",
   "execution_count": 8,
   "metadata": {
    "collapsed": false
   },
   "outputs": [
    {
     "name": "stdout",
     "output_type": "stream",
     "text": [
      "Enter a string:surekha\n",
      "string contains only small letters\n"
     ]
    }
   ],
   "source": [
    "#9. take a string from the user and check contains only  small letters or not?\n",
    "string=raw_input(\"Enter a string:\")\n",
    "a=string.lower()\n",
    "if string==a:\n",
    "    print \"string contains only small letters\"\n",
    "else:\n",
    "    print \"string does not contains only small letters\""
   ]
  },
  {
   "cell_type": "code",
   "execution_count": 9,
   "metadata": {
    "collapsed": false
   },
   "outputs": [
    {
     "name": "stdout",
     "output_type": "stream",
     "text": [
      "Please select your OS:1\n",
      "WINDOWS \n",
      "Please select your OS:4\n"
     ]
    }
   ],
   "source": [
    "'''10. Show the below menu to the user until and until user select quit and display corresponding os message\n",
    "Menu:\n",
    "1. windows\n",
    "2. Linux\n",
    "3. Mac\n",
    "4. quit'''\n",
    "i=0\n",
    "while i>=0:\n",
    "    a=raw_input(\"Please select your OS:\")\n",
    "    if(a==\"1\"):\n",
    "        print \"WINDOWS \"\n",
    "    elif(a==\"2\"):\n",
    "        print \"LINUX \"\n",
    "    elif(a==\"3\"):\n",
    "        print \"MAC \"\n",
    "    elif(a==\"4\"):\n",
    "        break\n",
    "    else:\n",
    "        print \"Please enter a valid input\""
   ]
  },
  {
   "cell_type": "code",
   "execution_count": 10,
   "metadata": {
    "collapsed": false
   },
   "outputs": [
    {
     "name": "stdout",
     "output_type": "stream",
     "text": [
      "Enter a string:surekha123\n",
      "contains digits\n"
     ]
    }
   ],
   "source": [
    "#11. take a string from the user and check contains atleast one digit or not?\n",
    "string=raw_input(\"Enter a string:\")\n",
    "flag=False\n",
    "for i in string:\n",
    "    if i.isdigit():\n",
    "        flag=True\n",
    "        break       \n",
    "if flag:\n",
    "    print \"contains digits\"\n",
    "else:\n",
    "    print \"not contains digits\""
   ]
  },
  {
   "cell_type": "code",
   "execution_count": 11,
   "metadata": {
    "collapsed": false
   },
   "outputs": [
    {
     "name": "stdout",
     "output_type": "stream",
     "text": [
      "Enter a string:12345surekha\n",
      "contains alphabets\n"
     ]
    }
   ],
   "source": [
    "#12. take a string from the user and check contains atleast one alphabets or not?\n",
    "string=raw_input(\"Enter a string:\")\n",
    "flag=False\n",
    "for i in string:\n",
    "    if i.isalpha():\n",
    "        flag=True\n",
    "        break\n",
    "if flag:\n",
    "    print \"contains alphabets\"\n",
    "else:\n",
    "    print \"not contains alphabets\""
   ]
  },
  {
   "cell_type": "code",
   "execution_count": 12,
   "metadata": {
    "collapsed": false
   },
   "outputs": [
    {
     "name": "stdout",
     "output_type": "stream",
     "text": [
      "enter a stringsurekha\n",
      "It contains atleast one character\n"
     ]
    }
   ],
   "source": [
    "#13. take a string from the user and check contains atleast one chars or not?\n",
    "input = raw_input(\"enter a string\")\n",
    "count = 0\n",
    "for i in input:\n",
    "    if i.isspace() == False:\n",
    "        count=+1\n",
    "        \n",
    "if count ==0:\n",
    "    print \"It does not contain characters\"\n",
    "else :\n",
    "    print \"It contains atleast one character\""
   ]
  },
  {
   "cell_type": "code",
   "execution_count": 13,
   "metadata": {
    "collapsed": false
   },
   "outputs": [
    {
     "name": "stdout",
     "output_type": "stream",
     "text": [
      "Enter a string:Surekha\n",
      "contains capital letters\n"
     ]
    }
   ],
   "source": [
    "#14. take a string from the user and check contains atleast one capital letter or not?\n",
    "string=raw_input(\"Enter a string:\")\n",
    "flag=False\n",
    "for i in string:\n",
    "    if i.isupper():\n",
    "        flag=True\n",
    "        break\n",
    "if flag:\n",
    "    print \"contains capital letters\"\n",
    "else:\n",
    "    print \"not contains capital letters\""
   ]
  },
  {
   "cell_type": "code",
   "execution_count": 14,
   "metadata": {
    "collapsed": false
   },
   "outputs": [
    {
     "name": "stdout",
     "output_type": "stream",
     "text": [
      "Enter a string:SUREKHa\n",
      "contains small letters\n"
     ]
    }
   ],
   "source": [
    "#15. take a string from the user and check contains atleast one small letter or not?\n",
    "string=raw_input(\"Enter a string:\")\n",
    "flag=False\n",
    "for i in string:\n",
    "    if i.islower():\n",
    "        flag=True\n",
    "        break\n",
    "if flag:\n",
    "    print \"contains small letters\"\n",
    "else:\n",
    "    print \"not contains small letters\""
   ]
  },
  {
   "cell_type": "code",
   "execution_count": 15,
   "metadata": {
    "collapsed": false
   },
   "outputs": [
    {
     "name": "stdout",
     "output_type": "stream",
     "text": [
      "Enter Total number of people:100\n",
      "Enter Total number of buses:9\n",
      "Enter Total number of seats for bus:10\n",
      " 1  more buses are required to travel for 10 people\n"
     ]
    }
   ],
   "source": [
    "'''16. Take the input from the user for(Total number of people, toatl number of busses, Number of seats for bus). Based on the input\n",
    "\tDeside whether there is sufficient busses or not and give solution for how many extra busses required.'''\n",
    "import math\n",
    "people=int(raw_input(\"Enter Total number of people:\"))\n",
    "buses=int(raw_input(\"Enter Total number of buses:\"))\n",
    "seats=int(raw_input(\"Enter Total number of seats for bus:\"))\n",
    "Total_seats=float(buses*seats)\n",
    "rem_people=float(people-Total_seats)\n",
    "required_bus=math.ceil(rem_people/seats)\n",
    "if required_bus == 0:\n",
    "    print \" % d buses are sufficient to travel for %d people\"%(buses,people)\n",
    "elif required_bus != 0:\n",
    "    print \" %d  more buses are required to travel for %d people\"%(int(required_bus),rem_people)"
   ]
  },
  {
   "cell_type": "code",
   "execution_count": 16,
   "metadata": {
    "collapsed": false
   },
   "outputs": [
    {
     "name": "stdout",
     "output_type": "stream",
     "text": [
      "1\n",
      "3\n",
      "5\n",
      "7\n",
      "9\n",
      "11\n",
      "13\n",
      "15\n",
      "17\n",
      "19\n",
      "21\n",
      "23\n",
      "25\n",
      "27\n",
      "29\n",
      "31\n",
      "33\n",
      "35\n",
      "37\n",
      "39\n",
      "41\n",
      "43\n",
      "45\n",
      "47\n",
      "49\n",
      "51\n",
      "53\n",
      "55\n",
      "57\n",
      "59\n",
      "61\n",
      "63\n",
      "65\n",
      "67\n",
      "69\n",
      "71\n",
      "73\n",
      "75\n",
      "77\n",
      "79\n",
      "81\n",
      "83\n",
      "85\n",
      "87\n",
      "89\n",
      "91\n",
      "93\n",
      "95\n",
      "97\n",
      "99\n"
     ]
    }
   ],
   "source": [
    "#17. Print the first 100 odd numbers\n",
    "for i in range(100):\n",
    "    if i%2!=0:\n",
    "        print i"
   ]
  },
  {
   "cell_type": "code",
   "execution_count": 17,
   "metadata": {
    "collapsed": false
   },
   "outputs": [
    {
     "name": "stdout",
     "output_type": "stream",
     "text": [
      "Enter a number:12\n",
      "The factors of 12 are:\n",
      "1\n",
      "2\n",
      "3\n",
      "4\n",
      "6\n",
      "12\n"
     ]
    }
   ],
   "source": [
    "#18. Determine the factors of a number entered  by the user\n",
    "x=int(raw_input(\"Enter a number:\"))\n",
    "print\"The factors of\",x,\"are:\"\n",
    "for i in range(1, x + 1):\n",
    "    if x % i == 0:\n",
    "        print i"
   ]
  },
  {
   "cell_type": "code",
   "execution_count": null,
   "metadata": {
    "collapsed": false
   },
   "outputs": [],
   "source": [
    "#19. Play a number guessing game (User enters a guess, you print YES or Higher or Lower)\n",
    "import random\n",
    "num= random.randrange(0,1000)\n",
    "flag=False\n",
    "while not flag:\n",
    "    number = raw_input(\"I have a number between 1 and 1000.Please type your first guess: \")\n",
    "    if number.isdigit():\n",
    "      print \"Random number has been generated\",num   \n",
    "      if num == number:\n",
    "          print \"Excellent! You guessed the number!\"\n",
    "      elif num < number:\n",
    "          print \"Too low. Try again,\"\n",
    "      elif num > number:\n",
    "          print \"Too high. Try again.\"\n",
    "    else:\n",
    "       print \"Please enter a valid input\""
   ]
  },
  {
   "cell_type": "code",
   "execution_count": null,
   "metadata": {
    "collapsed": true
   },
   "outputs": [],
   "source": [
    "\n"
   ]
  }
 ],
 "metadata": {
  "kernelspec": {
   "display_name": "Python 2",
   "language": "python",
   "name": "python2"
  },
  "language_info": {
   "codemirror_mode": {
    "name": "ipython",
    "version": 2
   },
   "file_extension": ".py",
   "mimetype": "text/x-python",
   "name": "python",
   "nbconvert_exporter": "python",
   "pygments_lexer": "ipython2",
   "version": "2.7.13"
  }
 },
 "nbformat": 4,
 "nbformat_minor": 2
}
